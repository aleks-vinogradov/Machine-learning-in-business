{
 "cells": [
  {
   "cell_type": "markdown",
   "metadata": {},
   "source": [
    "# Выбор локации для скважины"
   ]
  },
  {
   "cell_type": "markdown",
   "metadata": {},
   "source": [
    "Допустим, вы работаете в добывающей компании «ГлавРосГосНефть». Нужно решить, где бурить новую скважину.\n",
    "\n",
    "Вам предоставлены пробы нефти в трёх регионах: в каждом 10 000 месторождений, где измерили качество нефти и объём её запасов. Постройте модель машинного обучения, которая поможет определить регион, где добыча принесёт наибольшую прибыль. Проанализируйте возможную прибыль и риски техникой *Bootstrap.*\n",
    "\n",
    "Шаги для выбора локации:\n",
    "\n",
    "- В избранном регионе ищут месторождения, для каждого определяют значения признаков;\n",
    "- Строят модель и оценивают объём запасов;\n",
    "- Выбирают месторождения с самым высокими оценками значений. Количество месторождений зависит от бюджета компании и стоимости разработки одной скважины;\n",
    "- Прибыль равна суммарной прибыли отобранных месторождений."
   ]
  },
  {
   "cell_type": "markdown",
   "metadata": {},
   "source": [
    "## Загрузка и подготовка данных"
   ]
  },
  {
   "cell_type": "code",
   "execution_count": 1,
   "metadata": {},
   "outputs": [],
   "source": [
    "import numpy as np\n",
    "import pandas as pd\n",
    "\n",
    "from sklearn.linear_model import LinearRegression\n",
    "from sklearn.preprocessing import StandardScaler\n",
    "from sklearn.model_selection import train_test_split \n",
    "from sklearn.metrics import mean_squared_error"
   ]
  },
  {
   "cell_type": "code",
   "execution_count": 2,
   "metadata": {},
   "outputs": [],
   "source": [
    "data0 = pd.read_csv('/datasets/geo_data_0.csv')\n",
    "data1 = pd.read_csv('/datasets/geo_data_1.csv')\n",
    "data2 = pd.read_csv('/datasets/geo_data_2.csv')"
   ]
  },
  {
   "cell_type": "code",
   "execution_count": 3,
   "metadata": {},
   "outputs": [],
   "source": [
    "data0 = data0.set_index('id')\n",
    "data1 = data1.set_index('id')\n",
    "data2 = data2.set_index('id')"
   ]
  },
  {
   "cell_type": "code",
   "execution_count": 4,
   "metadata": {
    "scrolled": true
   },
   "outputs": [
    {
     "data": {
      "text/html": [
       "<div>\n",
       "<style scoped>\n",
       "    .dataframe tbody tr th:only-of-type {\n",
       "        vertical-align: middle;\n",
       "    }\n",
       "\n",
       "    .dataframe tbody tr th {\n",
       "        vertical-align: top;\n",
       "    }\n",
       "\n",
       "    .dataframe thead th {\n",
       "        text-align: right;\n",
       "    }\n",
       "</style>\n",
       "<table border=\"1\" class=\"dataframe\">\n",
       "  <thead>\n",
       "    <tr style=\"text-align: right;\">\n",
       "      <th></th>\n",
       "      <th>f0</th>\n",
       "      <th>f1</th>\n",
       "      <th>f2</th>\n",
       "      <th>product</th>\n",
       "    </tr>\n",
       "    <tr>\n",
       "      <th>id</th>\n",
       "      <th></th>\n",
       "      <th></th>\n",
       "      <th></th>\n",
       "      <th></th>\n",
       "    </tr>\n",
       "  </thead>\n",
       "  <tbody>\n",
       "    <tr>\n",
       "      <th>txEyH</th>\n",
       "      <td>0.705745</td>\n",
       "      <td>-0.497823</td>\n",
       "      <td>1.221170</td>\n",
       "      <td>105.280062</td>\n",
       "    </tr>\n",
       "    <tr>\n",
       "      <th>2acmU</th>\n",
       "      <td>1.334711</td>\n",
       "      <td>-0.340164</td>\n",
       "      <td>4.365080</td>\n",
       "      <td>73.037750</td>\n",
       "    </tr>\n",
       "    <tr>\n",
       "      <th>409Wp</th>\n",
       "      <td>1.022732</td>\n",
       "      <td>0.151990</td>\n",
       "      <td>1.419926</td>\n",
       "      <td>85.265647</td>\n",
       "    </tr>\n",
       "    <tr>\n",
       "      <th>iJLyR</th>\n",
       "      <td>-0.032172</td>\n",
       "      <td>0.139033</td>\n",
       "      <td>2.978566</td>\n",
       "      <td>168.620776</td>\n",
       "    </tr>\n",
       "    <tr>\n",
       "      <th>Xdl7t</th>\n",
       "      <td>1.988431</td>\n",
       "      <td>0.155413</td>\n",
       "      <td>4.751769</td>\n",
       "      <td>154.036647</td>\n",
       "    </tr>\n",
       "  </tbody>\n",
       "</table>\n",
       "</div>"
      ],
      "text/plain": [
       "             f0        f1        f2     product\n",
       "id                                             \n",
       "txEyH  0.705745 -0.497823  1.221170  105.280062\n",
       "2acmU  1.334711 -0.340164  4.365080   73.037750\n",
       "409Wp  1.022732  0.151990  1.419926   85.265647\n",
       "iJLyR -0.032172  0.139033  2.978566  168.620776\n",
       "Xdl7t  1.988431  0.155413  4.751769  154.036647"
      ]
     },
     "execution_count": 4,
     "metadata": {},
     "output_type": "execute_result"
    }
   ],
   "source": [
    "data0.head()"
   ]
  },
  {
   "cell_type": "code",
   "execution_count": 5,
   "metadata": {},
   "outputs": [
    {
     "name": "stdout",
     "output_type": "stream",
     "text": [
      "<class 'pandas.core.frame.DataFrame'>\n",
      "Index: 100000 entries, txEyH to 1CWhH\n",
      "Data columns (total 4 columns):\n",
      " #   Column   Non-Null Count   Dtype  \n",
      "---  ------   --------------   -----  \n",
      " 0   f0       100000 non-null  float64\n",
      " 1   f1       100000 non-null  float64\n",
      " 2   f2       100000 non-null  float64\n",
      " 3   product  100000 non-null  float64\n",
      "dtypes: float64(4)\n",
      "memory usage: 3.8+ MB\n"
     ]
    }
   ],
   "source": [
    "data0.info()"
   ]
  },
  {
   "cell_type": "code",
   "execution_count": 6,
   "metadata": {},
   "outputs": [
    {
     "data": {
      "text/html": [
       "<div>\n",
       "<style scoped>\n",
       "    .dataframe tbody tr th:only-of-type {\n",
       "        vertical-align: middle;\n",
       "    }\n",
       "\n",
       "    .dataframe tbody tr th {\n",
       "        vertical-align: top;\n",
       "    }\n",
       "\n",
       "    .dataframe thead th {\n",
       "        text-align: right;\n",
       "    }\n",
       "</style>\n",
       "<table border=\"1\" class=\"dataframe\">\n",
       "  <thead>\n",
       "    <tr style=\"text-align: right;\">\n",
       "      <th></th>\n",
       "      <th>missing_values</th>\n",
       "      <th>% of total</th>\n",
       "    </tr>\n",
       "  </thead>\n",
       "  <tbody>\n",
       "    <tr>\n",
       "      <th>f0</th>\n",
       "      <td>0</td>\n",
       "      <td>0.0</td>\n",
       "    </tr>\n",
       "    <tr>\n",
       "      <th>f1</th>\n",
       "      <td>0</td>\n",
       "      <td>0.0</td>\n",
       "    </tr>\n",
       "    <tr>\n",
       "      <th>f2</th>\n",
       "      <td>0</td>\n",
       "      <td>0.0</td>\n",
       "    </tr>\n",
       "    <tr>\n",
       "      <th>product</th>\n",
       "      <td>0</td>\n",
       "      <td>0.0</td>\n",
       "    </tr>\n",
       "  </tbody>\n",
       "</table>\n",
       "</div>"
      ],
      "text/plain": [
       "         missing_values  % of total\n",
       "f0                    0         0.0\n",
       "f1                    0         0.0\n",
       "f2                    0         0.0\n",
       "product               0         0.0"
      ]
     },
     "execution_count": 6,
     "metadata": {},
     "output_type": "execute_result"
    }
   ],
   "source": [
    "report = data0.isna().sum().to_frame()\n",
    "report = report.rename(columns = {0: 'missing_values'})\n",
    "report['% of total'] = (report['missing_values'] / data0.shape[0]).round(2)*100\n",
    "report.sort_values(by = 'missing_values', ascending = False)"
   ]
  },
  {
   "cell_type": "code",
   "execution_count": 7,
   "metadata": {},
   "outputs": [
    {
     "data": {
      "text/plain": [
       "0"
      ]
     },
     "execution_count": 7,
     "metadata": {},
     "output_type": "execute_result"
    }
   ],
   "source": [
    "data0.duplicated().sum()"
   ]
  },
  {
   "cell_type": "code",
   "execution_count": 8,
   "metadata": {},
   "outputs": [
    {
     "data": {
      "text/html": [
       "<div>\n",
       "<style scoped>\n",
       "    .dataframe tbody tr th:only-of-type {\n",
       "        vertical-align: middle;\n",
       "    }\n",
       "\n",
       "    .dataframe tbody tr th {\n",
       "        vertical-align: top;\n",
       "    }\n",
       "\n",
       "    .dataframe thead th {\n",
       "        text-align: right;\n",
       "    }\n",
       "</style>\n",
       "<table border=\"1\" class=\"dataframe\">\n",
       "  <thead>\n",
       "    <tr style=\"text-align: right;\">\n",
       "      <th></th>\n",
       "      <th>f0</th>\n",
       "      <th>f1</th>\n",
       "      <th>f2</th>\n",
       "      <th>product</th>\n",
       "    </tr>\n",
       "    <tr>\n",
       "      <th>id</th>\n",
       "      <th></th>\n",
       "      <th></th>\n",
       "      <th></th>\n",
       "      <th></th>\n",
       "    </tr>\n",
       "  </thead>\n",
       "  <tbody>\n",
       "    <tr>\n",
       "      <th>kBEdx</th>\n",
       "      <td>-15.001348</td>\n",
       "      <td>-8.276000</td>\n",
       "      <td>-0.005876</td>\n",
       "      <td>3.179103</td>\n",
       "    </tr>\n",
       "    <tr>\n",
       "      <th>62mP7</th>\n",
       "      <td>14.272088</td>\n",
       "      <td>-3.475083</td>\n",
       "      <td>0.999183</td>\n",
       "      <td>26.953261</td>\n",
       "    </tr>\n",
       "    <tr>\n",
       "      <th>vyE1P</th>\n",
       "      <td>6.263187</td>\n",
       "      <td>-5.948386</td>\n",
       "      <td>5.001160</td>\n",
       "      <td>134.766305</td>\n",
       "    </tr>\n",
       "    <tr>\n",
       "      <th>KcrkZ</th>\n",
       "      <td>-13.081196</td>\n",
       "      <td>-11.506057</td>\n",
       "      <td>4.999415</td>\n",
       "      <td>137.945408</td>\n",
       "    </tr>\n",
       "    <tr>\n",
       "      <th>AHL4O</th>\n",
       "      <td>12.702195</td>\n",
       "      <td>-8.147433</td>\n",
       "      <td>5.004363</td>\n",
       "      <td>134.766305</td>\n",
       "    </tr>\n",
       "  </tbody>\n",
       "</table>\n",
       "</div>"
      ],
      "text/plain": [
       "              f0         f1        f2     product\n",
       "id                                               \n",
       "kBEdx -15.001348  -8.276000 -0.005876    3.179103\n",
       "62mP7  14.272088  -3.475083  0.999183   26.953261\n",
       "vyE1P   6.263187  -5.948386  5.001160  134.766305\n",
       "KcrkZ -13.081196 -11.506057  4.999415  137.945408\n",
       "AHL4O  12.702195  -8.147433  5.004363  134.766305"
      ]
     },
     "execution_count": 8,
     "metadata": {},
     "output_type": "execute_result"
    }
   ],
   "source": [
    "data1.head()"
   ]
  },
  {
   "cell_type": "code",
   "execution_count": 9,
   "metadata": {},
   "outputs": [
    {
     "name": "stdout",
     "output_type": "stream",
     "text": [
      "<class 'pandas.core.frame.DataFrame'>\n",
      "Index: 100000 entries, kBEdx to relB0\n",
      "Data columns (total 4 columns):\n",
      " #   Column   Non-Null Count   Dtype  \n",
      "---  ------   --------------   -----  \n",
      " 0   f0       100000 non-null  float64\n",
      " 1   f1       100000 non-null  float64\n",
      " 2   f2       100000 non-null  float64\n",
      " 3   product  100000 non-null  float64\n",
      "dtypes: float64(4)\n",
      "memory usage: 3.8+ MB\n"
     ]
    }
   ],
   "source": [
    "data1.info()"
   ]
  },
  {
   "cell_type": "code",
   "execution_count": 10,
   "metadata": {},
   "outputs": [
    {
     "data": {
      "text/plain": [
       "0"
      ]
     },
     "execution_count": 10,
     "metadata": {},
     "output_type": "execute_result"
    }
   ],
   "source": [
    "data1.duplicated().sum()"
   ]
  },
  {
   "cell_type": "code",
   "execution_count": 11,
   "metadata": {},
   "outputs": [
    {
     "data": {
      "text/html": [
       "<div>\n",
       "<style scoped>\n",
       "    .dataframe tbody tr th:only-of-type {\n",
       "        vertical-align: middle;\n",
       "    }\n",
       "\n",
       "    .dataframe tbody tr th {\n",
       "        vertical-align: top;\n",
       "    }\n",
       "\n",
       "    .dataframe thead th {\n",
       "        text-align: right;\n",
       "    }\n",
       "</style>\n",
       "<table border=\"1\" class=\"dataframe\">\n",
       "  <thead>\n",
       "    <tr style=\"text-align: right;\">\n",
       "      <th></th>\n",
       "      <th>missing_values</th>\n",
       "      <th>% of total</th>\n",
       "    </tr>\n",
       "  </thead>\n",
       "  <tbody>\n",
       "    <tr>\n",
       "      <th>f0</th>\n",
       "      <td>0</td>\n",
       "      <td>0.0</td>\n",
       "    </tr>\n",
       "    <tr>\n",
       "      <th>f1</th>\n",
       "      <td>0</td>\n",
       "      <td>0.0</td>\n",
       "    </tr>\n",
       "    <tr>\n",
       "      <th>f2</th>\n",
       "      <td>0</td>\n",
       "      <td>0.0</td>\n",
       "    </tr>\n",
       "    <tr>\n",
       "      <th>product</th>\n",
       "      <td>0</td>\n",
       "      <td>0.0</td>\n",
       "    </tr>\n",
       "  </tbody>\n",
       "</table>\n",
       "</div>"
      ],
      "text/plain": [
       "         missing_values  % of total\n",
       "f0                    0         0.0\n",
       "f1                    0         0.0\n",
       "f2                    0         0.0\n",
       "product               0         0.0"
      ]
     },
     "execution_count": 11,
     "metadata": {},
     "output_type": "execute_result"
    }
   ],
   "source": [
    "report = data1.isna().sum().to_frame()\n",
    "report = report.rename(columns = {0: 'missing_values'})\n",
    "report['% of total'] = (report['missing_values'] / data1.shape[0]).round(2)*100\n",
    "report.sort_values(by = 'missing_values', ascending = False)"
   ]
  },
  {
   "cell_type": "code",
   "execution_count": 12,
   "metadata": {},
   "outputs": [
    {
     "data": {
      "text/html": [
       "<div>\n",
       "<style scoped>\n",
       "    .dataframe tbody tr th:only-of-type {\n",
       "        vertical-align: middle;\n",
       "    }\n",
       "\n",
       "    .dataframe tbody tr th {\n",
       "        vertical-align: top;\n",
       "    }\n",
       "\n",
       "    .dataframe thead th {\n",
       "        text-align: right;\n",
       "    }\n",
       "</style>\n",
       "<table border=\"1\" class=\"dataframe\">\n",
       "  <thead>\n",
       "    <tr style=\"text-align: right;\">\n",
       "      <th></th>\n",
       "      <th>f0</th>\n",
       "      <th>f1</th>\n",
       "      <th>f2</th>\n",
       "      <th>product</th>\n",
       "    </tr>\n",
       "    <tr>\n",
       "      <th>id</th>\n",
       "      <th></th>\n",
       "      <th></th>\n",
       "      <th></th>\n",
       "      <th></th>\n",
       "    </tr>\n",
       "  </thead>\n",
       "  <tbody>\n",
       "    <tr>\n",
       "      <th>fwXo0</th>\n",
       "      <td>-1.146987</td>\n",
       "      <td>0.963328</td>\n",
       "      <td>-0.828965</td>\n",
       "      <td>27.758673</td>\n",
       "    </tr>\n",
       "    <tr>\n",
       "      <th>WJtFt</th>\n",
       "      <td>0.262778</td>\n",
       "      <td>0.269839</td>\n",
       "      <td>-2.530187</td>\n",
       "      <td>56.069697</td>\n",
       "    </tr>\n",
       "    <tr>\n",
       "      <th>ovLUW</th>\n",
       "      <td>0.194587</td>\n",
       "      <td>0.289035</td>\n",
       "      <td>-5.586433</td>\n",
       "      <td>62.871910</td>\n",
       "    </tr>\n",
       "    <tr>\n",
       "      <th>q6cA6</th>\n",
       "      <td>2.236060</td>\n",
       "      <td>-0.553760</td>\n",
       "      <td>0.930038</td>\n",
       "      <td>114.572842</td>\n",
       "    </tr>\n",
       "    <tr>\n",
       "      <th>WPMUX</th>\n",
       "      <td>-0.515993</td>\n",
       "      <td>1.716266</td>\n",
       "      <td>5.899011</td>\n",
       "      <td>149.600746</td>\n",
       "    </tr>\n",
       "  </tbody>\n",
       "</table>\n",
       "</div>"
      ],
      "text/plain": [
       "             f0        f1        f2     product\n",
       "id                                             \n",
       "fwXo0 -1.146987  0.963328 -0.828965   27.758673\n",
       "WJtFt  0.262778  0.269839 -2.530187   56.069697\n",
       "ovLUW  0.194587  0.289035 -5.586433   62.871910\n",
       "q6cA6  2.236060 -0.553760  0.930038  114.572842\n",
       "WPMUX -0.515993  1.716266  5.899011  149.600746"
      ]
     },
     "execution_count": 12,
     "metadata": {},
     "output_type": "execute_result"
    }
   ],
   "source": [
    "data2.head()"
   ]
  },
  {
   "cell_type": "code",
   "execution_count": 13,
   "metadata": {},
   "outputs": [
    {
     "name": "stdout",
     "output_type": "stream",
     "text": [
      "<class 'pandas.core.frame.DataFrame'>\n",
      "Index: 100000 entries, fwXo0 to V9kWn\n",
      "Data columns (total 4 columns):\n",
      " #   Column   Non-Null Count   Dtype  \n",
      "---  ------   --------------   -----  \n",
      " 0   f0       100000 non-null  float64\n",
      " 1   f1       100000 non-null  float64\n",
      " 2   f2       100000 non-null  float64\n",
      " 3   product  100000 non-null  float64\n",
      "dtypes: float64(4)\n",
      "memory usage: 3.8+ MB\n"
     ]
    }
   ],
   "source": [
    "data2.info()"
   ]
  },
  {
   "cell_type": "code",
   "execution_count": 14,
   "metadata": {},
   "outputs": [
    {
     "data": {
      "text/html": [
       "<div>\n",
       "<style scoped>\n",
       "    .dataframe tbody tr th:only-of-type {\n",
       "        vertical-align: middle;\n",
       "    }\n",
       "\n",
       "    .dataframe tbody tr th {\n",
       "        vertical-align: top;\n",
       "    }\n",
       "\n",
       "    .dataframe thead th {\n",
       "        text-align: right;\n",
       "    }\n",
       "</style>\n",
       "<table border=\"1\" class=\"dataframe\">\n",
       "  <thead>\n",
       "    <tr style=\"text-align: right;\">\n",
       "      <th></th>\n",
       "      <th>missing_values</th>\n",
       "      <th>% of total</th>\n",
       "    </tr>\n",
       "  </thead>\n",
       "  <tbody>\n",
       "    <tr>\n",
       "      <th>f0</th>\n",
       "      <td>0</td>\n",
       "      <td>0.0</td>\n",
       "    </tr>\n",
       "    <tr>\n",
       "      <th>f1</th>\n",
       "      <td>0</td>\n",
       "      <td>0.0</td>\n",
       "    </tr>\n",
       "    <tr>\n",
       "      <th>f2</th>\n",
       "      <td>0</td>\n",
       "      <td>0.0</td>\n",
       "    </tr>\n",
       "    <tr>\n",
       "      <th>product</th>\n",
       "      <td>0</td>\n",
       "      <td>0.0</td>\n",
       "    </tr>\n",
       "  </tbody>\n",
       "</table>\n",
       "</div>"
      ],
      "text/plain": [
       "         missing_values  % of total\n",
       "f0                    0         0.0\n",
       "f1                    0         0.0\n",
       "f2                    0         0.0\n",
       "product               0         0.0"
      ]
     },
     "execution_count": 14,
     "metadata": {},
     "output_type": "execute_result"
    }
   ],
   "source": [
    "report = data2.isna().sum().to_frame()\n",
    "report = report.rename(columns = {0: 'missing_values'})\n",
    "report['% of total'] = (report['missing_values'] / data2.shape[0]).round(2)*100\n",
    "report.sort_values(by = 'missing_values', ascending = False)"
   ]
  },
  {
   "cell_type": "code",
   "execution_count": 15,
   "metadata": {
    "scrolled": true
   },
   "outputs": [
    {
     "data": {
      "text/plain": [
       "0"
      ]
     },
     "execution_count": 15,
     "metadata": {},
     "output_type": "execute_result"
    }
   ],
   "source": [
    "data2.duplicated().sum()"
   ]
  },
  {
   "cell_type": "markdown",
   "metadata": {},
   "source": [
    "Во время первого этапа были импортированы библиотеки, первично изучени датасеты. Проверены на пропуски и дубликаты. Столбец `id` был переведён в индексы."
   ]
  },
  {
   "cell_type": "markdown",
   "metadata": {},
   "source": [
    "## Обучение и проверка модели"
   ]
  },
  {
   "cell_type": "markdown",
   "metadata": {},
   "source": [
    "**Data0:**"
   ]
  },
  {
   "cell_type": "code",
   "execution_count": 16,
   "metadata": {},
   "outputs": [],
   "source": [
    "RANDOM_STATE = 42\n",
    "X0 = data0.drop('product', axis = 1)\n",
    "y0 = data0['product']\n",
    "X0_train, X0_valid, y0_train, y0_valid = train_test_split(\n",
    "        X0, \n",
    "        y0, \n",
    "        test_size=0.25,\n",
    "        random_state=RANDOM_STATE\n",
    ") "
   ]
  },
  {
   "cell_type": "code",
   "execution_count": 17,
   "metadata": {},
   "outputs": [],
   "source": [
    "scaler0 = StandardScaler()\n",
    "X0_train_scaler = scaler0.fit_transform(X0_train)\n",
    "X0_valid_scaler = scaler0.transform(X0_valid)"
   ]
  },
  {
   "cell_type": "code",
   "execution_count": 18,
   "metadata": {},
   "outputs": [],
   "source": [
    "model0 = LinearRegression()\n",
    "model0.fit(X0_train_scaler, y0_train)\n",
    "predict0 = model0.predict(X0_valid_scaler)"
   ]
  },
  {
   "cell_type": "code",
   "execution_count": 19,
   "metadata": {
    "scrolled": true
   },
   "outputs": [
    {
     "name": "stdout",
     "output_type": "stream",
     "text": [
      "Средний запас предсказанного сырья data0: 92.39879990657768, значение метрики RMSE: 37.75660035026169\n"
     ]
    }
   ],
   "source": [
    "mean0 = predict0.mean()\n",
    "rmse0 = mean_squared_error(y0_valid, predict0, squared=False)\n",
    "print(f'Средний запас предсказанного сырья data0: {mean0}, значение метрики RMSE: {rmse0}')"
   ]
  },
  {
   "cell_type": "markdown",
   "metadata": {},
   "source": [
    "**Data1:**"
   ]
  },
  {
   "cell_type": "code",
   "execution_count": 20,
   "metadata": {},
   "outputs": [],
   "source": [
    "X1 = data1.drop('product', axis = 1)\n",
    "y1 = data1['product']\n",
    "X1_train, X1_valid, y1_train, y1_valid = train_test_split(\n",
    "        X1, \n",
    "        y1, \n",
    "        test_size=0.25,\n",
    "        random_state=RANDOM_STATE\n",
    ") "
   ]
  },
  {
   "cell_type": "code",
   "execution_count": 21,
   "metadata": {},
   "outputs": [],
   "source": [
    "scaler1 = StandardScaler()\n",
    "X1_train_scaler = scaler1.fit_transform(X1_train)\n",
    "X1_valid_scaler = scaler1.transform(X1_valid)"
   ]
  },
  {
   "cell_type": "code",
   "execution_count": 22,
   "metadata": {},
   "outputs": [],
   "source": [
    "model1 = LinearRegression()\n",
    "model1.fit(X1_train_scaler, y1_train)\n",
    "predict1 = model1.predict(X1_valid_scaler)"
   ]
  },
  {
   "cell_type": "code",
   "execution_count": 23,
   "metadata": {
    "scrolled": true
   },
   "outputs": [
    {
     "name": "stdout",
     "output_type": "stream",
     "text": [
      "Средний запас предсказанного сырья data1: 68.7128780391376, значение метрики RMSE: 0.8902801001028846\n"
     ]
    }
   ],
   "source": [
    "mean1 = predict1.mean()\n",
    "rmse1 = mean_squared_error(y1_valid, predict1, squared=False)\n",
    "print(f'Средний запас предсказанного сырья data1: {mean1}, значение метрики RMSE: {rmse1}')"
   ]
  },
  {
   "cell_type": "markdown",
   "metadata": {},
   "source": [
    "**Data2:**"
   ]
  },
  {
   "cell_type": "code",
   "execution_count": 24,
   "metadata": {},
   "outputs": [],
   "source": [
    "X2 = data2.drop('product', axis = 1)\n",
    "y2 = data2['product']\n",
    "X2_train, X2_valid, y2_train, y2_valid = train_test_split(\n",
    "        X2, \n",
    "        y2, \n",
    "        test_size=0.25,\n",
    "        random_state=RANDOM_STATE\n",
    ") "
   ]
  },
  {
   "cell_type": "code",
   "execution_count": 25,
   "metadata": {},
   "outputs": [],
   "source": [
    "scaler2 = StandardScaler()\n",
    "X2_train_scaler = scaler2.fit_transform(X2_train)\n",
    "X2_valid_scaler = scaler2.transform(X2_valid)"
   ]
  },
  {
   "cell_type": "code",
   "execution_count": 26,
   "metadata": {},
   "outputs": [],
   "source": [
    "model2 = LinearRegression()\n",
    "model2.fit(X2_train_scaler, y2_train)\n",
    "predict2 = model2.predict(X2_valid_scaler)"
   ]
  },
  {
   "cell_type": "code",
   "execution_count": 27,
   "metadata": {},
   "outputs": [
    {
     "name": "stdout",
     "output_type": "stream",
     "text": [
      "Средний запас предсказанного сырья data2: 94.77102387765939, значение метрики RMSE: 40.145872311342174\n"
     ]
    }
   ],
   "source": [
    "mean2 = predict2.mean()\n",
    "rmse2 = mean_squared_error(y2_valid, predict2, squared=False)\n",
    "print(f'Средний запас предсказанного сырья data2: {mean2}, значение метрики RMSE: {rmse2}')"
   ]
  },
  {
   "cell_type": "markdown",
   "metadata": {},
   "source": [
    "**Промежуточный вывод:**\n",
    "Наибольший запас предсказанного сырья у `Data2 = 94.8`, на втором месте с незначительной разницей идёт нулевое `Data0 = 92.4`, и наименьшие запасы у `Data1 = 68.7`.\n",
    "Однако именно у `Data1` модель работает точнее всего (значение метрики `RMSE там < 1`, а чем ближе значение метрики к `0`, тем точнее модель. В тоже время у других месторождений значение метрики в районе `40`)."
   ]
  },
  {
   "cell_type": "markdown",
   "metadata": {},
   "source": [
    "## Подготовка к расчёту прибыли"
   ]
  },
  {
   "cell_type": "markdown",
   "metadata": {},
   "source": [
    "Для разработки выбирают 200 лучших скважин:"
   ]
  },
  {
   "cell_type": "code",
   "execution_count": 28,
   "metadata": {},
   "outputs": [],
   "source": [
    "n = 200"
   ]
  },
  {
   "cell_type": "markdown",
   "metadata": {},
   "source": [
    "Бюджет на разработку скважин 10 млрд. рублей:"
   ]
  },
  {
   "cell_type": "code",
   "execution_count": 29,
   "metadata": {},
   "outputs": [],
   "source": [
    "budget = 10 * 10**9"
   ]
  },
  {
   "cell_type": "markdown",
   "metadata": {},
   "source": [
    "Доход с единицы продукта:"
   ]
  },
  {
   "cell_type": "code",
   "execution_count": 30,
   "metadata": {},
   "outputs": [],
   "source": [
    "revenue = 450000"
   ]
  },
  {
   "cell_type": "markdown",
   "metadata": {},
   "source": [
    "Сколько выделяется денег на одну скважину:"
   ]
  },
  {
   "cell_type": "code",
   "execution_count": 31,
   "metadata": {},
   "outputs": [],
   "source": [
    "budget_one = budget/n"
   ]
  },
  {
   "cell_type": "markdown",
   "metadata": {},
   "source": [
    "Сколько нужно единиц продукта, чтобы потрать весь бюджет:"
   ]
  },
  {
   "cell_type": "code",
   "execution_count": 32,
   "metadata": {},
   "outputs": [],
   "source": [
    "volume = budget_one / revenue"
   ]
  },
  {
   "cell_type": "code",
   "execution_count": 33,
   "metadata": {},
   "outputs": [
    {
     "data": {
      "text/plain": [
       "111.11111111111111"
      ]
     },
     "execution_count": 33,
     "metadata": {},
     "output_type": "execute_result"
    }
   ],
   "source": [
    "volume"
   ]
  },
  {
   "cell_type": "markdown",
   "metadata": {},
   "source": [
    "**Промежуточный вывод:**\n",
    "Получается если в каждой скважине объем будет не меньше чем `111.11` то никаких убытков не будет. Но если объем будет меньше, то затраты на бурение не окупятся. Средние запасы в каждом регионе меньше чем `111.11`, а значит! - либо в них есть `200` скважин с запасом, либо бурение будет убыточным."
   ]
  },
  {
   "cell_type": "markdown",
   "metadata": {},
   "source": [
    "## Расчёт прибыли и рисков "
   ]
  },
  {
   "cell_type": "code",
   "execution_count": 34,
   "metadata": {},
   "outputs": [],
   "source": [
    "def profit(data, y_true, y_predict):\n",
    "    data['predict'] = y_predict\n",
    "    data['true'] = y_true\n",
    "    data = data.sort_values(by = 'predict', ascending = False)\n",
    "    data = data.head(200)\n",
    "    profite = data['true'].sum()*450000 - budget\n",
    "    return profite"
   ]
  },
  {
   "cell_type": "code",
   "execution_count": 35,
   "metadata": {},
   "outputs": [],
   "source": [
    "state = np.random.RandomState(12345)"
   ]
  },
  {
   "cell_type": "code",
   "execution_count": 36,
   "metadata": {},
   "outputs": [],
   "source": [
    "prib0 = []\n",
    "for i in range(1000):\n",
    "    subsample = X0_valid.sample(n=500, replace = True, random_state=state)\n",
    "    prib0.append(profit(subsample, y0_valid, pd.DataFrame(predict0, index = X0_valid.index)))"
   ]
  },
  {
   "cell_type": "code",
   "execution_count": 37,
   "metadata": {},
   "outputs": [],
   "source": [
    "prib1 = []\n",
    "for i in range(1000):\n",
    "    subsample = X1_valid.sample(n=500, replace = True, random_state=state)\n",
    "    prib1.append(profit(subsample, y1_valid, pd.DataFrame(predict1, index = X1_valid.index)))"
   ]
  },
  {
   "cell_type": "code",
   "execution_count": 38,
   "metadata": {},
   "outputs": [],
   "source": [
    "prib2 = []\n",
    "for i in range(1000):\n",
    "    subsample = X2_valid.sample(n=500, replace = True, random_state=state)\n",
    "    prib2.append(profit(subsample, y2_valid, pd.DataFrame(predict2, index = X2_valid.index)))"
   ]
  },
  {
   "cell_type": "markdown",
   "metadata": {},
   "source": [
    "Средняя прибыль Data0 региона:"
   ]
  },
  {
   "cell_type": "code",
   "execution_count": 39,
   "metadata": {},
   "outputs": [
    {
     "data": {
      "text/plain": [
       "406278783.42441905"
      ]
     },
     "execution_count": 39,
     "metadata": {},
     "output_type": "execute_result"
    }
   ],
   "source": [
    "pd.Series(prib0).mean()"
   ]
  },
  {
   "cell_type": "markdown",
   "metadata": {},
   "source": [
    "95% доверительный интервал Data0 региона:"
   ]
  },
  {
   "cell_type": "code",
   "execution_count": 40,
   "metadata": {},
   "outputs": [
    {
     "name": "stdout",
     "output_type": "stream",
     "text": [
      "95%-доверительный интервал для Data0 региона: от -117742136.49486831 до 911737050.7514055\n"
     ]
    }
   ],
   "source": [
    "lower = pd.Series(prib0).quantile(0.025)\n",
    "upper = pd.Series(prib0).quantile(0.975)\n",
    "print(f'95%-доверительный интервал для Data0 региона: от {lower} до {upper}')"
   ]
  },
  {
   "cell_type": "markdown",
   "metadata": {},
   "source": [
    "Доля отрицательных значений в Data0 регионе:"
   ]
  },
  {
   "cell_type": "code",
   "execution_count": 41,
   "metadata": {},
   "outputs": [
    {
     "data": {
      "text/plain": [
       "6.7"
      ]
     },
     "execution_count": 41,
     "metadata": {},
     "output_type": "execute_result"
    }
   ],
   "source": [
    "len([i for i in prib0 if i<0])/len(prib0)*100"
   ]
  },
  {
   "cell_type": "markdown",
   "metadata": {},
   "source": [
    "Средняя прибыль Data1 региона:"
   ]
  },
  {
   "cell_type": "code",
   "execution_count": 42,
   "metadata": {},
   "outputs": [
    {
     "data": {
      "text/plain": [
       "441504277.5922549"
      ]
     },
     "execution_count": 42,
     "metadata": {},
     "output_type": "execute_result"
    }
   ],
   "source": [
    "pd.Series(prib1).mean()"
   ]
  },
  {
   "cell_type": "markdown",
   "metadata": {},
   "source": [
    "95% доверительный интервал Data1 региона:"
   ]
  },
  {
   "cell_type": "code",
   "execution_count": 43,
   "metadata": {},
   "outputs": [
    {
     "name": "stdout",
     "output_type": "stream",
     "text": [
      "95%-доверительный интервал для Data1 региона: от 35728489.280851334 до 828006639.0043902\n"
     ]
    }
   ],
   "source": [
    "lower = pd.Series(prib1).quantile(0.025)\n",
    "upper = pd.Series(prib1).quantile(0.975)\n",
    "print(f'95%-доверительный интервал для Data1 региона: от {lower} до {upper}')"
   ]
  },
  {
   "cell_type": "markdown",
   "metadata": {},
   "source": [
    "Доля отрицательных значений в Data1 регионе:"
   ]
  },
  {
   "cell_type": "code",
   "execution_count": 44,
   "metadata": {},
   "outputs": [
    {
     "data": {
      "text/plain": [
       "1.6"
      ]
     },
     "execution_count": 44,
     "metadata": {},
     "output_type": "execute_result"
    }
   ],
   "source": [
    "len([i for i in prib1 if i<0])/len(prib1)*100"
   ]
  },
  {
   "cell_type": "markdown",
   "metadata": {},
   "source": [
    "Средняя прибыль Data2 региона:"
   ]
  },
  {
   "cell_type": "code",
   "execution_count": 45,
   "metadata": {},
   "outputs": [
    {
     "data": {
      "text/plain": [
       "385213195.91415244"
      ]
     },
     "execution_count": 45,
     "metadata": {},
     "output_type": "execute_result"
    }
   ],
   "source": [
    "pd.Series(prib2).mean()"
   ]
  },
  {
   "cell_type": "markdown",
   "metadata": {},
   "source": [
    "95% доверительный интервал Data2 региона:"
   ]
  },
  {
   "cell_type": "code",
   "execution_count": 46,
   "metadata": {},
   "outputs": [
    {
     "name": "stdout",
     "output_type": "stream",
     "text": [
      "95%-доверительный интервал для Data2 региона: от -164785166.1090443 до 888206234.1976783\n"
     ]
    }
   ],
   "source": [
    "lower = pd.Series(prib2).quantile(0.025)\n",
    "upper = pd.Series(prib2).quantile(0.975)\n",
    "print(f'95%-доверительный интервал для Data2 региона: от {lower} до {upper}')"
   ]
  },
  {
   "cell_type": "markdown",
   "metadata": {},
   "source": [
    "Доля отрицательных значений в Data2 регионе:"
   ]
  },
  {
   "cell_type": "code",
   "execution_count": 47,
   "metadata": {},
   "outputs": [
    {
     "data": {
      "text/plain": [
       "7.8"
      ]
     },
     "execution_count": 47,
     "metadata": {},
     "output_type": "execute_result"
    }
   ],
   "source": [
    "len([i for i in prib2 if i<0])/len(prib2)*100"
   ]
  },
  {
   "cell_type": "markdown",
   "metadata": {},
   "source": [
    "**Вывод:**\n",
    "Единственный регион с вероятностью убытков `< 2.5` - это регион `Data1`. В доверительном интервале нет отрицательных значений, значит 95%-доверительный интервал для `Data1` региона - прибыль, а не убытки. Среднее значение прибыли в этом регионе - `441504277.59`. Поэтому именно регион `Data1` лучше всего подойдёт для разработки."
   ]
  },
  {
   "cell_type": "markdown",
   "metadata": {},
   "source": [
    "## Чек-лист готовности проекта"
   ]
  },
  {
   "cell_type": "markdown",
   "metadata": {},
   "source": [
    "Поставьте 'x' в выполненных пунктах. Далее нажмите Shift+Enter."
   ]
  },
  {
   "cell_type": "markdown",
   "metadata": {},
   "source": [
    "- [x]  Jupyter Notebook открыт\n",
    "- [x]  Весь код выполняется без ошибок\n",
    "- [x]  Ячейки с кодом расположены в порядке исполнения\n",
    "- [x]  Выполнен шаг 1: данные подготовлены\n",
    "- [x]  Выполнен шаг 2: модели обучены и проверены\n",
    "    - [x]  Данные корректно разбиты на обучающую и валидационную выборки\n",
    "    - [x]  Модели обучены, предсказания сделаны\n",
    "    - [x]  Предсказания и правильные ответы на валидационной выборке сохранены\n",
    "    - [x]  На экране напечатаны результаты\n",
    "    - [x]  Сделаны выводы\n",
    "- [x]  Выполнен шаг 3: проведена подготовка к расчёту прибыли\n",
    "    - [x]  Для всех ключевых значений созданы константы Python\n",
    "    - [x]  Посчитано минимальное среднее количество продукта в месторождениях региона, достаточное для разработки\n",
    "    - [x]  По предыдущему пункту сделаны выводы\n",
    "    - [x]  Написана функция расчёта прибыли\n",
    "- [x]  Выполнен шаг 4: посчитаны риски и прибыль\n",
    "    - [x]  Проведена процедура *Bootstrap*\n",
    "    - [x]  Все параметры бутстрепа соответствуют условию\n",
    "    - [x]  Найдены все нужные величины\n",
    "    - [x]  Предложен регион для разработки месторождения\n",
    "    - [x]  Выбор региона обоснован"
   ]
  }
 ],
 "metadata": {
  "ExecuteTimeLog": [
   {
    "duration": 1316,
    "start_time": "2024-10-02T07:02:16.649Z"
   },
   {
    "duration": 999,
    "start_time": "2024-10-02T07:02:31.301Z"
   },
   {
    "duration": 34,
    "start_time": "2024-10-02T07:02:43.148Z"
   },
   {
    "duration": 19,
    "start_time": "2024-10-02T07:02:53.747Z"
   },
   {
    "duration": 11,
    "start_time": "2024-10-02T07:03:10.181Z"
   },
   {
    "duration": 17,
    "start_time": "2024-10-02T07:03:24.425Z"
   },
   {
    "duration": 37,
    "start_time": "2024-10-02T07:03:35.180Z"
   },
   {
    "duration": 9,
    "start_time": "2024-10-02T07:03:44.083Z"
   },
   {
    "duration": 10,
    "start_time": "2024-10-02T07:03:59.783Z"
   },
   {
    "duration": 28,
    "start_time": "2024-10-02T07:04:20.056Z"
   },
   {
    "duration": 12,
    "start_time": "2024-10-02T07:04:29.950Z"
   },
   {
    "duration": 9,
    "start_time": "2024-10-02T07:04:40.124Z"
   },
   {
    "duration": 13,
    "start_time": "2024-10-02T07:04:55.312Z"
   },
   {
    "duration": 14,
    "start_time": "2024-10-02T07:05:05.306Z"
   },
   {
    "duration": 34,
    "start_time": "2024-10-02T07:05:17.311Z"
   },
   {
    "duration": 59,
    "start_time": "2024-10-02T07:26:57.737Z"
   },
   {
    "duration": 13,
    "start_time": "2024-10-02T07:27:08.852Z"
   },
   {
    "duration": 15,
    "start_time": "2024-10-02T07:27:23.315Z"
   },
   {
    "duration": 10,
    "start_time": "2024-10-02T07:27:40.011Z"
   },
   {
    "duration": 5,
    "start_time": "2024-10-02T07:28:03.165Z"
   },
   {
    "duration": 57,
    "start_time": "2024-10-02T07:29:15.506Z"
   },
   {
    "duration": 14,
    "start_time": "2024-10-02T07:29:27.809Z"
   },
   {
    "duration": 12,
    "start_time": "2024-10-02T07:29:38.363Z"
   },
   {
    "duration": 9,
    "start_time": "2024-10-02T07:30:01.567Z"
   },
   {
    "duration": 56,
    "start_time": "2024-10-02T07:30:57.790Z"
   },
   {
    "duration": 13,
    "start_time": "2024-10-02T07:31:09.007Z"
   },
   {
    "duration": 15,
    "start_time": "2024-10-02T07:31:17.844Z"
   },
   {
    "duration": 9,
    "start_time": "2024-10-02T07:31:36.389Z"
   },
   {
    "duration": 2,
    "start_time": "2024-10-02T07:37:47.340Z"
   },
   {
    "duration": 3,
    "start_time": "2024-10-02T07:38:08.052Z"
   },
   {
    "duration": 3,
    "start_time": "2024-10-02T07:38:32.307Z"
   },
   {
    "duration": 2,
    "start_time": "2024-10-02T07:38:42.989Z"
   },
   {
    "duration": 2,
    "start_time": "2024-10-02T07:38:43.780Z"
   },
   {
    "duration": 3,
    "start_time": "2024-10-02T07:38:45.007Z"
   },
   {
    "duration": 3,
    "start_time": "2024-10-02T07:39:36.484Z"
   },
   {
    "duration": 71,
    "start_time": "2024-10-02T07:39:55.447Z"
   },
   {
    "duration": 3,
    "start_time": "2024-10-02T07:40:16.773Z"
   },
   {
    "duration": 5,
    "start_time": "2024-10-02T07:40:27.476Z"
   },
   {
    "duration": 4,
    "start_time": "2024-10-02T07:44:04.590Z"
   },
   {
    "duration": 3,
    "start_time": "2024-10-02T07:44:15.003Z"
   },
   {
    "duration": 2567,
    "start_time": "2024-10-02T07:44:24.710Z"
   },
   {
    "duration": 2525,
    "start_time": "2024-10-02T07:44:37.456Z"
   },
   {
    "duration": 2458,
    "start_time": "2024-10-02T07:44:49.925Z"
   },
   {
    "duration": 6,
    "start_time": "2024-10-02T07:45:30.674Z"
   },
   {
    "duration": 7,
    "start_time": "2024-10-02T07:46:19.462Z"
   },
   {
    "duration": 7,
    "start_time": "2024-10-02T07:47:17.645Z"
   },
   {
    "duration": 7,
    "start_time": "2024-10-02T07:51:27.784Z"
   },
   {
    "duration": 5,
    "start_time": "2024-10-02T07:52:19.030Z"
   },
   {
    "duration": 6,
    "start_time": "2024-10-02T07:53:23.451Z"
   },
   {
    "duration": 7,
    "start_time": "2024-10-02T07:54:10.407Z"
   },
   {
    "duration": 5,
    "start_time": "2024-10-02T07:54:56.901Z"
   },
   {
    "duration": 4,
    "start_time": "2024-10-02T07:55:25.127Z"
   },
   {
    "duration": 7,
    "start_time": "2024-10-02T07:56:13.330Z"
   },
   {
    "duration": 6,
    "start_time": "2024-10-02T07:56:44.380Z"
   },
   {
    "duration": 1191,
    "start_time": "2024-10-02T08:02:40.584Z"
   },
   {
    "duration": 465,
    "start_time": "2024-10-02T08:02:41.777Z"
   },
   {
    "duration": 26,
    "start_time": "2024-10-02T08:02:42.244Z"
   },
   {
    "duration": 20,
    "start_time": "2024-10-02T08:02:42.273Z"
   },
   {
    "duration": 10,
    "start_time": "2024-10-02T08:02:42.294Z"
   },
   {
    "duration": 61,
    "start_time": "2024-10-02T08:02:42.306Z"
   },
   {
    "duration": 39,
    "start_time": "2024-10-02T08:02:42.368Z"
   },
   {
    "duration": 10,
    "start_time": "2024-10-02T08:02:42.409Z"
   },
   {
    "duration": 11,
    "start_time": "2024-10-02T08:02:42.421Z"
   },
   {
    "duration": 26,
    "start_time": "2024-10-02T08:02:42.457Z"
   },
   {
    "duration": 13,
    "start_time": "2024-10-02T08:02:42.485Z"
   },
   {
    "duration": 10,
    "start_time": "2024-10-02T08:02:42.500Z"
   },
   {
    "duration": 12,
    "start_time": "2024-10-02T08:02:42.512Z"
   },
   {
    "duration": 13,
    "start_time": "2024-10-02T08:02:42.556Z"
   },
   {
    "duration": 35,
    "start_time": "2024-10-02T08:02:42.571Z"
   },
   {
    "duration": 75,
    "start_time": "2024-10-02T08:02:42.607Z"
   },
   {
    "duration": 16,
    "start_time": "2024-10-02T08:02:42.689Z"
   },
   {
    "duration": 20,
    "start_time": "2024-10-02T08:02:42.707Z"
   },
   {
    "duration": 105,
    "start_time": "2024-10-02T08:02:42.757Z"
   },
   {
    "duration": 62,
    "start_time": "2024-10-02T08:02:42.864Z"
   },
   {
    "duration": 30,
    "start_time": "2024-10-02T08:02:42.929Z"
   },
   {
    "duration": 17,
    "start_time": "2024-10-02T08:02:42.961Z"
   },
   {
    "duration": 79,
    "start_time": "2024-10-02T08:02:42.981Z"
   },
   {
    "duration": 141,
    "start_time": "2024-10-02T08:02:43.063Z"
   },
   {
    "duration": 12,
    "start_time": "2024-10-02T08:02:43.206Z"
   },
   {
    "duration": 12,
    "start_time": "2024-10-02T08:02:43.220Z"
   },
   {
    "duration": 33,
    "start_time": "2024-10-02T08:02:43.233Z"
   },
   {
    "duration": 89,
    "start_time": "2024-10-02T08:02:43.270Z"
   },
   {
    "duration": 5,
    "start_time": "2024-10-02T08:02:43.361Z"
   },
   {
    "duration": 4,
    "start_time": "2024-10-02T08:02:43.367Z"
   },
   {
    "duration": 4,
    "start_time": "2024-10-02T08:02:43.372Z"
   },
   {
    "duration": 15,
    "start_time": "2024-10-02T08:02:43.378Z"
   },
   {
    "duration": 8,
    "start_time": "2024-10-02T08:02:43.396Z"
   },
   {
    "duration": 50,
    "start_time": "2024-10-02T08:02:43.406Z"
   },
   {
    "duration": 7,
    "start_time": "2024-10-02T08:02:43.458Z"
   },
   {
    "duration": 2532,
    "start_time": "2024-10-02T08:02:43.466Z"
   },
   {
    "duration": 2440,
    "start_time": "2024-10-02T08:02:46.000Z"
   },
   {
    "duration": 2447,
    "start_time": "2024-10-02T08:02:48.442Z"
   },
   {
    "duration": 5,
    "start_time": "2024-10-02T08:02:50.891Z"
   },
   {
    "duration": 18,
    "start_time": "2024-10-02T08:02:50.897Z"
   },
   {
    "duration": 5,
    "start_time": "2024-10-02T08:02:50.916Z"
   },
   {
    "duration": 7,
    "start_time": "2024-10-02T08:02:50.923Z"
   },
   {
    "duration": 24,
    "start_time": "2024-10-02T08:02:50.931Z"
   },
   {
    "duration": 16,
    "start_time": "2024-10-02T08:02:50.957Z"
   },
   {
    "duration": 30,
    "start_time": "2024-10-02T08:02:50.975Z"
   },
   {
    "duration": 12,
    "start_time": "2024-10-02T08:02:51.007Z"
   },
   {
    "duration": 13,
    "start_time": "2024-10-02T08:02:51.021Z"
   }
  ],
  "kernelspec": {
   "display_name": "Python 3 (ipykernel)",
   "language": "python",
   "name": "python3"
  },
  "language_info": {
   "codemirror_mode": {
    "name": "ipython",
    "version": 3
   },
   "file_extension": ".py",
   "mimetype": "text/x-python",
   "name": "python",
   "nbconvert_exporter": "python",
   "pygments_lexer": "ipython3",
   "version": "3.9.5"
  },
  "toc": {
   "base_numbering": 1,
   "nav_menu": {},
   "number_sections": true,
   "sideBar": true,
   "skip_h1_title": true,
   "title_cell": "Table of Contents",
   "title_sidebar": "Contents",
   "toc_cell": false,
   "toc_position": {},
   "toc_section_display": true,
   "toc_window_display": false
  }
 },
 "nbformat": 4,
 "nbformat_minor": 2
}
